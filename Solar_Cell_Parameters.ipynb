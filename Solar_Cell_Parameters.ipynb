{
  "nbformat": 4,
  "nbformat_minor": 0,
  "metadata": {
    "colab": {
      "name": "Solar_Cell_Parameters.ipynb",
      "provenance": [],
      "collapsed_sections": [],
      "authorship_tag": "ABX9TyNM+pEA+cRaiaMbJ6iG63Wj",
      "include_colab_link": true
    },
    "kernelspec": {
      "name": "python3",
      "display_name": "Python 3"
    },
    "language_info": {
      "name": "python"
    }
  },
  "cells": [
    {
      "cell_type": "markdown",
      "metadata": {
        "id": "view-in-github",
        "colab_type": "text"
      },
      "source": [
        "<a href=\"https://colab.research.google.com/github/Sudoyolo/CollegeProjects/blob/main/Solar_Cell_Parameters.ipynb\" target=\"_parent\"><img src=\"https://colab.research.google.com/assets/colab-badge.svg\" alt=\"Open In Colab\"/></a>"
      ]
    },
    {
      "cell_type": "code",
      "metadata": {
        "colab": {
          "base_uri": "https://localhost:8080/"
        },
        "id": "C9oM7C16BgP4",
        "outputId": "2f061e9c-5b6b-4d11-c2c7-2c824cd604cb"
      },
      "source": [
        "# Maximum Current Density \n",
        "I_Max = float(input(\"Enter Maximum Current(A) \"))"
      ],
      "execution_count": null,
      "outputs": [
        {
          "output_type": "stream",
          "text": [
            "Enter Maximum Current(A) 2.59\n"
          ],
          "name": "stdout"
        }
      ]
    },
    {
      "cell_type": "code",
      "metadata": {
        "colab": {
          "base_uri": "https://localhost:8080/"
        },
        "id": "XH3yZa69CGFv",
        "outputId": "16e4e6b9-f9c2-4402-ec02-f4ea9ad89fe8"
      },
      "source": [
        "# Maximum Voltage \n",
        "V_Max = float(input(\"Enter Maximum Voltage(V) \"))"
      ],
      "execution_count": null,
      "outputs": [
        {
          "output_type": "stream",
          "text": [
            "Enter Maximum Voltage(V) 0.5\n"
          ],
          "name": "stdout"
        }
      ]
    },
    {
      "cell_type": "code",
      "metadata": {
        "colab": {
          "base_uri": "https://localhost:8080/"
        },
        "id": "4J4nrjIpCz4I",
        "outputId": "766e719f-f00e-43ca-9c7f-642715426c41"
      },
      "source": [
        "# Open Circuit Voltage\n",
        "V_OC = float(input(\"Enter Open Circuit Voltage(V) \"))"
      ],
      "execution_count": null,
      "outputs": [
        {
          "output_type": "stream",
          "text": [
            "Enter Open Circuit Voltage(V) 0.6\n"
          ],
          "name": "stdout"
        }
      ]
    },
    {
      "cell_type": "code",
      "metadata": {
        "colab": {
          "base_uri": "https://localhost:8080/"
        },
        "id": "DOPOX10cDL3V",
        "outputId": "26042b95-16f7-4cce-d39b-ddc9f6670ca5"
      },
      "source": [
        "# Short Circuit Current\n",
        "I_SC = float(input(\"Enter Short Circuit Current(A) \"))"
      ],
      "execution_count": null,
      "outputs": [
        {
          "output_type": "stream",
          "text": [
            "Enter Short Circuit Current(A) 2.75\n"
          ],
          "name": "stdout"
        }
      ]
    },
    {
      "cell_type": "code",
      "metadata": {
        "colab": {
          "base_uri": "https://localhost:8080/"
        },
        "id": "jTjJYx09DXgD",
        "outputId": "114e5c58-9337-43ba-8aa4-b99d5f991c6f"
      },
      "source": [
        "# Incident Power\n",
        "P_IN = float(input(\"Enter Incident Power of Light(W) \"))"
      ],
      "execution_count": null,
      "outputs": [
        {
          "output_type": "stream",
          "text": [
            "Enter Incident Power of Light(W) 1.5\n"
          ],
          "name": "stdout"
        }
      ]
    },
    {
      "cell_type": "code",
      "metadata": {
        "colab": {
          "base_uri": "https://localhost:8080/"
        },
        "id": "SJhMW5MFD4cJ",
        "outputId": "fa68171f-a2a7-4223-a8cd-6c09776ec3b6"
      },
      "source": [
        "# Fill Factor\n",
        "FF = (J_Max*V_Max)/(V_OC*I_SC)\n",
        "print(\"The Fill Factor is %f.\"%(FF))"
      ],
      "execution_count": null,
      "outputs": [
        {
          "output_type": "stream",
          "text": [
            "The Fill Factor is 0.784848.\n"
          ],
          "name": "stdout"
        }
      ]
    },
    {
      "cell_type": "code",
      "metadata": {
        "colab": {
          "base_uri": "https://localhost:8080/"
        },
        "id": "hSkX8a4XFGX3",
        "outputId": "b7a70c8d-53b1-4aae-a5f1-7ffab1e47659"
      },
      "source": [
        "# Maximum Power\n",
        "P_Max = V_OC * I_SC * FF\n",
        "print(\"The Maximum Power(P_Max) is %fW.\"%(P_Max))"
      ],
      "execution_count": null,
      "outputs": [
        {
          "output_type": "stream",
          "text": [
            "The Maximum Power(P_Max) is 1.295000W.\n"
          ],
          "name": "stdout"
        }
      ]
    },
    {
      "cell_type": "code",
      "metadata": {
        "colab": {
          "base_uri": "https://localhost:8080/"
        },
        "id": "n_NdMQ7yFoV6",
        "outputId": "db11db86-b9eb-48c9-9f2a-7ff1d9287763"
      },
      "source": [
        "# Efficiency\n",
        "η = P_Max/P_IN\n",
        "print(\"The Efficiency is %f.\"%(η))"
      ],
      "execution_count": null,
      "outputs": [
        {
          "output_type": "stream",
          "text": [
            "The Efficiency is 0.863333.\n"
          ],
          "name": "stdout"
        }
      ]
    }
  ]
}
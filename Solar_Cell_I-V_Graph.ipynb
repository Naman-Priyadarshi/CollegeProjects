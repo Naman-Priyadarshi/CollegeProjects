{
  "nbformat": 4,
  "nbformat_minor": 0,
  "metadata": {
    "colab": {
      "name": "Solar_Cell_I-V_Graph.ipynb",
      "provenance": [],
      "collapsed_sections": [],
      "authorship_tag": "ABX9TyOOHRj7e2IaUTYycdE0Znpp",
      "include_colab_link": true
    },
    "kernelspec": {
      "name": "python3",
      "display_name": "Python 3"
    },
    "language_info": {
      "name": "python"
    }
  },
  "cells": [
    {
      "cell_type": "markdown",
      "metadata": {
        "id": "view-in-github",
        "colab_type": "text"
      },
      "source": [
        "<a href=\"https://colab.research.google.com/github/Sudoyolo/CollegeProjects/blob/main/Solar_Cell_I-V_Graph.ipynb\" target=\"_parent\"><img src=\"https://colab.research.google.com/assets/colab-badge.svg\" alt=\"Open In Colab\"/></a>"
      ]
    },
    {
      "cell_type": "code",
      "metadata": {
        "id": "98I_wNjiD9Uq"
      },
      "source": [
        "import numpy as np\n",
        "import math\n",
        "import matplotlib.pyplot as plt"
      ],
      "execution_count": null,
      "outputs": []
    },
    {
      "cell_type": "code",
      "metadata": {
        "id": "HpeGHslHEEbF"
      },
      "source": [
        "# Voltage\n",
        "V = np.linspace(-1,1)"
      ],
      "execution_count": null,
      "outputs": []
    },
    {
      "cell_type": "code",
      "metadata": {
        "id": "AsPOEYPE0YDw"
      },
      "source": [
        "# Saturation Current I0\n",
        "I0 = 1.8 * math.pow(10,-12)"
      ],
      "execution_count": null,
      "outputs": []
    },
    {
      "cell_type": "code",
      "metadata": {
        "id": "eMBYaqNs0ztI"
      },
      "source": [
        "# Elementary (Electronic) Charge\n",
        "q = 1.60217662 * math.pow(10,-19)"
      ],
      "execution_count": null,
      "outputs": []
    },
    {
      "cell_type": "code",
      "metadata": {
        "id": "u_-8q8733CqP"
      },
      "source": [
        "# Boltzmann's Constant\n",
        "kB = 1.38064852 * math.pow(10,-23)"
      ],
      "execution_count": null,
      "outputs": []
    },
    {
      "cell_type": "code",
      "metadata": {
        "id": "-W_uZjgc3rgU"
      },
      "source": [
        "# Ideality Factor \n",
        "n = 1"
      ],
      "execution_count": null,
      "outputs": []
    },
    {
      "cell_type": "code",
      "metadata": {
        "id": "4GRd9ZYW3z8Y"
      },
      "source": [
        "# Temperature \n",
        "T = 298.15"
      ],
      "execution_count": null,
      "outputs": []
    },
    {
      "cell_type": "code",
      "metadata": {
        "id": "re-1EKya3_-f"
      },
      "source": [
        "# Light generated current\n",
        "IL1 = 0\n",
        "IL2 = 0.5\n",
        "IL3 = 1\n",
        "IL4 = 1.5\n",
        "IL5 = 2\n",
        "IL6 = 2.5"
      ],
      "execution_count": null,
      "outputs": []
    },
    {
      "cell_type": "code",
      "metadata": {
        "id": "Ak7bIkFs44ZQ"
      },
      "source": [
        "# Shockley Equation\n",
        "I = I0 * (np.exp((V*q)/(kB*T)) - 1) - IL"
      ],
      "execution_count": null,
      "outputs": []
    },
    {
      "cell_type": "code",
      "metadata": {
        "colab": {
          "base_uri": "https://localhost:8080/",
          "height": 295
        },
        "id": "ysGJAN7n46p8",
        "outputId": "f129a011-f781-4b52-a9b8-c8682f131144"
      },
      "source": [
        "# Plotting the curves simultaneously\n",
        "I1 = I = I0 * (np.exp((V*q)/(kB*T)) - 1) - IL1\n",
        "I2 = I = I0 * (np.exp((V*q)/(kB*T)) - 1) - IL2\n",
        "I3 = I = I0 * (np.exp((V*q)/(kB*T)) - 1) - IL3\n",
        "I4 = I = I0 * (np.exp((V*q)/(kB*T)) - 1) - IL4\n",
        "I5 = I = I0 * (np.exp((V*q)/(kB*T)) - 1) - IL5\n",
        "I6 = I = I0 * (np.exp((V*q)/(kB*T)) - 1) - IL6\n",
        "\n",
        "plt.plot(V, I1, color='r', label='IL = 0')\n",
        "plt.plot(V, I2, color='g', label='IL = 0.5')\n",
        "plt.plot(V, I3, color='b', label='IL = 1')\n",
        "plt.plot(V, I4, color='y', label='IL = 1.5')\n",
        "plt.plot(V, I5, color='c', label='IL = 2')\n",
        "plt.plot(V, I6, color='m', label='IL = 2.5')\n",
        "  \n",
        "# Naming the x-axis, y-axis and the whole graph\n",
        "plt.xlabel(\"Voltage\")\n",
        "plt.ylabel(\"Current\")\n",
        "plt.title(\"I-V Characcteristics of a Solar Cell\")\n",
        "  \n",
        "# Adding legend, which helps us recognize the curve according to it's color\n",
        "plt.legend()\n",
        "  \n",
        "# To load the display window\n",
        "plt.show()"
      ],
      "execution_count": null,
      "outputs": [
        {
          "output_type": "display_data",
          "data": {
            "image/png": "[encoded data removed]",
            "text/plain": [
              "<Figure size 432x288 with 1 Axes>"
            ]
          },
          "metadata": {
            "tags": [],
            "needs_background": "light"
          }
        }
      ]
    }
  ]
}